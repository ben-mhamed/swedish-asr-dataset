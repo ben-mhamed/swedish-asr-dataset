{
 "cells": [
  {
   "cell_type": "code",
   "execution_count": 1,
   "metadata": {},
   "outputs": [
    {
     "data": {
      "text/plain": [
       "'\\nExample sentences to test spaCy and its language models.\\n>>> from spacy.lang.sv.examples import sentences\\n>>> docs = nlp.pipe(sentences)\\n'"
      ]
     },
     "execution_count": 1,
     "metadata": {},
     "output_type": "execute_result"
    }
   ],
   "source": [
    "\"\"\"\n",
    "Example sentences to test spaCy and its language models.\n",
    ">>> from spacy.lang.sv.examples import sentences\n",
    ">>> docs = nlp.pipe(sentences)\n",
    "\"\"\""
   ]
  },
  {
   "cell_type": "code",
   "execution_count": 2,
   "metadata": {},
   "outputs": [],
   "source": [
    "import spacy"
   ]
  },
  {
   "cell_type": "code",
   "execution_count": 3,
   "metadata": {},
   "outputs": [],
   "source": [
    "from nltk.tokenize import sent_tokenize"
   ]
  },
  {
   "cell_type": "code",
   "execution_count": 4,
   "metadata": {},
   "outputs": [],
   "source": [
    "#from spacy.lang.sv import Swedish\n",
    "#nlp = Swedish()  # use directly\n",
    "#nlp = spacy.blank('fi')  # blank instance"
   ]
  },
  {
   "cell_type": "code",
   "execution_count": 5,
   "metadata": {},
   "outputs": [],
   "source": [
    "# English\n",
    "# nlp = spacy.load('en')"
   ]
  },
  {
   "cell_type": "code",
   "execution_count": 6,
   "metadata": {},
   "outputs": [],
   "source": [
    "with open('books/18043-0.txt', 'r') as f: \n",
    "    data = f.read()"
   ]
  },
  {
   "cell_type": "markdown",
   "metadata": {},
   "source": [
    "#### Clean text"
   ]
  },
  {
   "cell_type": "code",
   "execution_count": 16,
   "metadata": {},
   "outputs": [
    {
     "data": {
      "text/plain": [
       "936"
      ]
     },
     "execution_count": 16,
     "metadata": {},
     "output_type": "execute_result"
    }
   ],
   "source": [
    "import re\n",
    "#clean_data = re.sub(r'[^a-zA-Z0-9-_*.,?!åäöèÅÄÖÈÉ]', ' ', data)\n",
    "paragraphs = data.split(\"\\n\\n\")\n",
    "len(paragraphs)"
   ]
  },
  {
   "cell_type": "code",
   "execution_count": null,
   "metadata": {},
   "outputs": [],
   "source": [
    "paragraphs"
   ]
  },
  {
   "cell_type": "code",
   "execution_count": 8,
   "metadata": {},
   "outputs": [],
   "source": [
    "# doc = nlp(data)\n"
   ]
  },
  {
   "cell_type": "code",
   "execution_count": 63,
   "metadata": {},
   "outputs": [
    {
     "data": {
      "text/plain": [
       "936"
      ]
     },
     "execution_count": 63,
     "metadata": {},
     "output_type": "execute_result"
    }
   ],
   "source": [
    "paragraph_sentence_list = []\n",
    "for paragraph in paragraphs:\n",
    "    paragraph = paragraph.replace(\"\\n\", \" \")\n",
    "    paragraph = paragraph.replace(\"--\", \"\")\n",
    "    paragraph = re.sub(r'[^a-zA-Z0-9_*.,?!åäöèÅÄÖÈÉçëË]', ' ', paragraph)\n",
    "    paragraph_sentence_list.append(sent_tokenize(paragraph))\n",
    "\n",
    "len(paragraph_sentence_list)"
   ]
  },
  {
   "cell_type": "code",
   "execution_count": null,
   "metadata": {},
   "outputs": [],
   "source": [
    "paragraph_sentence_list"
   ]
  },
  {
   "cell_type": "code",
   "execution_count": 73,
   "metadata": {},
   "outputs": [],
   "source": [
    "text = \"\"\n",
    "count = 0\n",
    "for paragraph in paragraph_sentence_list:\n",
    "    if \" \".join(paragraph).isupper():\n",
    "        with open(\"books/18043-0_aeneas_data_\"+str(count)+\".txt\", \"w\") as fw:\n",
    "            fw.write(text)\n",
    "        text = \"\"\n",
    "        count += 1\n",
    "        text += \"\\n\".join(paragraph)\n",
    "        text += \"\\n\\n\"\n",
    "    elif \"End of the Project Gutenberg EBook\" in \" \".join(paragraph):\n",
    "        break\n",
    "    else:\n",
    "        text += \"\\n\".join(paragraph)\n",
    "        text += \"\\n\\n\"    "
   ]
  },
  {
   "cell_type": "code",
   "execution_count": 70,
   "metadata": {
    "scrolled": false
   },
   "outputs": [],
   "source": []
  },
  {
   "cell_type": "code",
   "execution_count": null,
   "metadata": {},
   "outputs": [],
   "source": []
  }
 ],
 "metadata": {
  "kernelspec": {
   "display_name": "Python 3",
   "language": "python",
   "name": "python3"
  },
  "language_info": {
   "codemirror_mode": {
    "name": "ipython",
    "version": 3
   },
   "file_extension": ".py",
   "mimetype": "text/x-python",
   "name": "python",
   "nbconvert_exporter": "python",
   "pygments_lexer": "ipython3",
   "version": "3.6.3"
  }
 },
 "nbformat": 4,
 "nbformat_minor": 2
}
