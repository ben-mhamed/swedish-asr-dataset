{
 "cells": [
  {
   "cell_type": "code",
   "execution_count": 1,
   "metadata": {},
   "outputs": [],
   "source": [
    "#!/usr/bin/env python\n",
    "# coding=utf-8\n",
    "\n",
    "from aeneas.executetask import ExecuteTask\n",
    "from aeneas.task import Task"
   ]
  },
  {
   "cell_type": "code",
   "execution_count": 4,
   "metadata": {},
   "outputs": [],
   "source": [
    "# create Task object\n",
    "config_string = u\"task_language=swe|is_text_type=plain|os_task_file_format=json\"\n",
    "task = Task(config_string=config_string)\n",
    "task.audio_file_path_absolute = \"books/18043-0/goteborgsflickor_01_stroemberg_64kb_clean.mp3\"\n",
    "task.text_file_path_absolute = \"books/18043-0_aeneas_data_1.txt\"\n",
    "task.sync_map_file_path_absolute = \"books/18043-0_output/syncmap.json\""
   ]
  },
  {
   "cell_type": "code",
   "execution_count": 5,
   "metadata": {},
   "outputs": [
    {
     "data": {
      "text/plain": [
       "'books/18043-0_output/syncmap.json'"
      ]
     },
     "execution_count": 5,
     "metadata": {},
     "output_type": "execute_result"
    }
   ],
   "source": [
    "# process Task\n",
    "ExecuteTask(task).execute()\n",
    "\n",
    "# output sync map to file\n",
    "task.output_sync_map_file()"
   ]
  },
  {
   "cell_type": "code",
   "execution_count": null,
   "metadata": {},
   "outputs": [],
   "source": []
  }
 ],
 "metadata": {
  "kernelspec": {
   "display_name": "Python 3",
   "language": "python",
   "name": "python3"
  },
  "language_info": {
   "codemirror_mode": {
    "name": "ipython",
    "version": 3
   },
   "file_extension": ".py",
   "mimetype": "text/x-python",
   "name": "python",
   "nbconvert_exporter": "python",
   "pygments_lexer": "ipython3",
   "version": "3.6.3"
  }
 },
 "nbformat": 4,
 "nbformat_minor": 2
}
